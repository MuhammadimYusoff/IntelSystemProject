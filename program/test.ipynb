{
 "cells": [
  {
   "cell_type": "code",
   "execution_count": null,
   "metadata": {},
   "outputs": [],
   "source": [
    "# Basic Python UI window\n",
    "from tkinter import *\n",
    "\n",
    "root = Tk()\n",
    "\n",
    "# Declare a label widget\n",
    "myLabel = Label(root, text=\"Hello World!\")\n",
    "\n",
    "# Packing all the widgets above into one window\n",
    "myLabel.pack()\n",
    "\n",
    "# Loop to make sure the program keep alive\n",
    "root.mainloop()"
   ]
  },
  {
   "cell_type": "code",
   "execution_count": null,
   "metadata": {},
   "outputs": [],
   "source": [
    "# Using grid() instead of pack()\n",
    "from tkinter import *\n",
    "\n",
    "root = Tk()\n",
    "\n",
    "# Declare a label widget\n",
    "myLabel1 = Label(root, text=\"Hello World!\")\n",
    "myLabel2 = Label(root, text=\"My name is Yusoff Jamaluddin\")\n",
    "\n",
    "# Packing all the widgets above into one window\n",
    "myLabel1.grid(row=0, column=0)\n",
    "myLabel2.grid(row=1, column=0)\n",
    "\n",
    "# Loop to make sure the program keep alive\n",
    "root.mainloop()"
   ]
  },
  {
   "cell_type": "code",
   "execution_count": null,
   "metadata": {},
   "outputs": [],
   "source": [
    "# Other way to create the same output as above\n",
    "\n",
    "from tkinter import *\n",
    "\n",
    "root = Tk()\n",
    "\n",
    "# Declare a label widget\n",
    "myLabel1 = Label(root, text=\"Hello World!\").grid(row=0, column=0)\n",
    "myLabel2 = Label(root, text=\"My name is Yusoff Jamaluddin\").grid(row=0, column=1)\n",
    "\n",
    "# Loop to make sure the program keep alive\n",
    "root.mainloop()"
   ]
  },
  {
   "cell_type": "code",
   "execution_count": null,
   "metadata": {},
   "outputs": [],
   "source": [
    "# Creating Buttons\n",
    "from tkinter import *\n",
    "\n",
    "root = Tk()\n",
    "\n",
    "# Declare button widget\n",
    "myButtonUsable = Button(root, text=\"Click Me!\", padx= 50, pady= 40) # Button with paddings\n",
    "myButtonDisabled = Button(root, text=\"Click Me!\", state=DISABLED) # Disabled button\n",
    "myButtonUsable.pack() # pack the UI\n",
    "myButtonDisabled.pack() # pack the UI\n",
    "\n",
    "# Loop to make sure the program keep alive\n",
    "root.mainloop()\n"
   ]
  },
  {
   "cell_type": "code",
   "execution_count": null,
   "metadata": {},
   "outputs": [],
   "source": [
    "# Creating Buttons with functions\n",
    "from tkinter import *\n",
    "root = Tk()\n",
    "\n",
    "# Define your functions\n",
    "def myClick():\n",
    "    myLabel = Label(root, text = \"Look I clicked the button!\")\n",
    "    myLabel.pack()\n",
    "\n",
    "# Declare button widget\n",
    "myButtonUsable = Button(root, text=\"Click Me!\", padx= 50, pady= 40, command=myClick, fg = \"blue\", bg = \"red\") # Button with paddings, foreground (text) color blue and background color red\n",
    "#! make sure not to place your function with bracket because the program will call it immediately after it starts\n",
    "myButtonDisabled = Button(root, text=\"Click Me!\", state=DISABLED) # Disabled button\n",
    "\n",
    "# pack the UI\n",
    "myButtonUsable.pack()\n",
    "myButtonDisabled.pack()\n",
    "\n",
    "# Loop to make sure the program keep alive\n",
    "root.mainloop()\n"
   ]
  },
  {
   "cell_type": "code",
   "execution_count": null,
   "metadata": {},
   "outputs": [],
   "source": [
    "# Creating Fileds\n",
    "from tkinter import *\n",
    "root = Tk()\n",
    "\n",
    "# Declare field widget\n",
    "e= Entry(root, width = 50, bg = \"blue\", fg= \"white\")\n",
    "\n",
    "# pack the UI\n",
    "e.pack()\n",
    "\n",
    "# Loop to make sure the program keep alive\n",
    "root.mainloop()\n"
   ]
  }
 ],
 "metadata": {
  "kernelspec": {
   "display_name": "Python 3.9.13 ('base')",
   "language": "python",
   "name": "python3"
  },
  "language_info": {
   "codemirror_mode": {
    "name": "ipython",
    "version": 3
   },
   "file_extension": ".py",
   "mimetype": "text/x-python",
   "name": "python",
   "nbconvert_exporter": "python",
   "pygments_lexer": "ipython3",
   "version": "3.9.13"
  },
  "orig_nbformat": 4,
  "vscode": {
   "interpreter": {
    "hash": "3d597f4c481aa0f25dceb95d2a0067e73c0966dcbd003d741d821a7208527ecf"
   }
  }
 },
 "nbformat": 4,
 "nbformat_minor": 2
}
